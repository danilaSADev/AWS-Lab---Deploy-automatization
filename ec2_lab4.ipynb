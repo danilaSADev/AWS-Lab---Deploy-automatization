{
 "cells": [
  {
   "cell_type": "code",
   "execution_count": 11,
   "metadata": {
    "collapsed": true
   },
   "outputs": [],
   "source": [
    "import boto3\n",
    "import os\n",
    "\n",
    "def create_key_pair():\n",
    "    ec2_client = boto3.client(\"ec2\", region_name='us-east-1')\n",
    "    key_pair = ec2_client.create_key_pair(KeyName=\"lab4-key-pair\")\n",
    "    private_key = key_pair[\"KeyMaterial\"]\n",
    "    with os.fdopen(os.open(\"lab4_ec2_key.pem\", os.O_WRONLY | os.O_CREAT, 0o400), \"w+\") as handle:\n",
    "        handle.write(private_key)\n",
    "\n",
    "create_key_pair()\n"
   ]
  },
  {
   "cell_type": "code",
   "execution_count": null,
   "outputs": [],
   "source": [
    "import boto3\n",
    "\n",
    "USERDATA_SCRIPT = '''#!/bin/bash\n",
    "cd /home/ubuntu/\n",
    "git clone https://github.com/danilaSADev/AWS-Lab---Deploy-automatization.git \"./cloned-dist/\"\n",
    "cd cloned-dist\n",
    "sudo apt update\n",
    "sudo apt install python3-pip --assume-yes\n",
    "sudo apt install jupyter-notebook --assume-yes\n",
    "pip3 install -r requirements.txt\n",
    "pip3 install jupyter-notebook\n",
    "pip3 install pycairo'''\n",
    "\n",
    "def create_instance():\n",
    "    ec2_client = boto3.client(\"ec2\", region_name=\"us-east-1\")\n",
    "    instances = ec2_client.run_instances(\n",
    "        ImageId=\"ami-08c40ec9ead489470\",\n",
    "        MinCount=1,\n",
    "        MaxCount=1,\n",
    "        SecurityGroupIds=[\n",
    "            \"sg-05ab746d1e2ef73af\"\n",
    "        ],\n",
    "        InstanceType=\"t2.micro\",\n",
    "        KeyName=\"lab4-key-pair\",\n",
    "        UserData=USERDATA_SCRIPT\n",
    "    )\n",
    "    print(instances[\"Instances\"][0][\"InstanceId\"])\n",
    "\n",
    "create_instance()\n"
   ],
   "metadata": {
    "collapsed": false,
    "pycharm": {
     "is_executing": true
    }
   }
  },
  {
   "cell_type": "code",
   "execution_count": null,
   "outputs": [],
   "source": [],
   "metadata": {
    "collapsed": false,
    "pycharm": {
     "is_executing": true
    }
   }
  },
  {
   "cell_type": "code",
   "execution_count": 4,
   "outputs": [
    {
     "name": "stdout",
     "output_type": "stream",
     "text": [
      "54.210.158.224\n"
     ]
    }
   ],
   "source": [
    "import boto3\n",
    "\n",
    "id = \"i-07d3148832499d71e\"\n",
    "\n",
    "def get_public_ip(instance_id):\n",
    "    ec2_client = boto3.client(\"ec2\", region_name=\"us-east-1\")\n",
    "\n",
    "    reservations = ec2_client.describe_instances(InstanceIds=[instance_id]).get(\"Reservations\")\n",
    "\n",
    "    for reservation in reservations:\n",
    "        for instance in reservation['Instances']:\n",
    "            print(instance.get(\"PublicIpAddress\"))\n",
    "\n",
    "\n",
    "get_public_ip(id)"
   ],
   "metadata": {
    "collapsed": false
   }
  },
  {
   "cell_type": "code",
   "execution_count": 4,
   "outputs": [
    {
     "name": "stdout",
     "output_type": "stream",
     "text": [
      "i-07d3148832499d71e, t2.micro, 34.227.111.92, 172.31.27.243\n",
      "i-0b68e8f8efc3d1672, t2.micro, 34.207.92.208, 172.31.81.71\n",
      "i-0c337bd8f91d8e833, t2.micro, 54.152.91.164, 172.31.89.242\n",
      "i-08ee6970fb4a4756c, t2.micro, 3.89.124.175, 172.31.95.2\n"
     ]
    }
   ],
   "source": [
    "import boto3\n",
    "\n",
    "def get_running_instances():\n",
    "    ec2_client = boto3.client(\"ec2\", region_name=\"us-east-1\")\n",
    "    reservations = ec2_client.describe_instances(Filters=[\n",
    "        {\n",
    "            \"Name\": \"instance-state-name\",\n",
    "            \"Values\": [\"running\"],\n",
    "        },\n",
    "        {\n",
    "            \"Name\": \"instance-type\",\n",
    "            \"Values\": [\"t2.micro\"]\n",
    "        }\n",
    "    ]).get(\"Reservations\")\n",
    "    for reservation in reservations:\n",
    "        for instance in reservation[\"Instances\"]:\n",
    "            instance_id = instance[\"InstanceId\"]\n",
    "            instance_type = instance[\"InstanceType\"]\n",
    "            public_ip = instance[\"PublicIpAddress\"]\n",
    "            private_ip = instance[\"PrivateIpAddress\"]\n",
    "            print(f\"{instance_id}, {instance_type}, {public_ip}, {private_ip}\")\n",
    "\n",
    "get_running_instances()"
   ],
   "metadata": {
    "collapsed": false
   }
  },
  {
   "cell_type": "code",
   "execution_count": 7,
   "outputs": [
    {
     "name": "stdout",
     "output_type": "stream",
     "text": [
      "{'StoppingInstances': [{'CurrentState': {'Code': 64, 'Name': 'stopping'}, 'InstanceId': 'i-07d3148832499d71e', 'PreviousState': {'Code': 16, 'Name': 'running'}}], 'ResponseMetadata': {'RequestId': '0c710596-db39-4b62-ad7f-812390eb6fd8', 'HTTPStatusCode': 200, 'HTTPHeaders': {'x-amzn-requestid': '0c710596-db39-4b62-ad7f-812390eb6fd8', 'cache-control': 'no-cache, no-store', 'strict-transport-security': 'max-age=31536000; includeSubDomains', 'content-type': 'text/xml;charset=UTF-8', 'content-length': '579', 'date': 'Thu, 17 Nov 2022 17:04:19 GMT', 'server': 'AmazonEC2'}, 'RetryAttempts': 0}}\n"
     ]
    }
   ],
   "source": [
    "import boto3\n",
    "\n",
    "id = 'i-07d3148832499d71e'\n",
    "\n",
    "def stop_instance(instance_id):\n",
    "    ec2_client = boto3.client(\"ec2\", region_name=\"us-east-1\")\n",
    "    response = ec2_client.stop_instances(InstanceIds=[instance_id])\n",
    "    print(response)\n",
    "\n",
    "stop_instance(id)"
   ],
   "metadata": {
    "collapsed": false
   }
  },
  {
   "cell_type": "markdown",
   "source": [],
   "metadata": {
    "collapsed": false
   }
  }
 ],
 "metadata": {
  "kernelspec": {
   "display_name": "Python 3",
   "language": "python",
   "name": "python3"
  },
  "language_info": {
   "codemirror_mode": {
    "name": "ipython",
    "version": 2
   },
   "file_extension": ".py",
   "mimetype": "text/x-python",
   "name": "python",
   "nbconvert_exporter": "python",
   "pygments_lexer": "ipython2",
   "version": "2.7.6"
  }
 },
 "nbformat": 4,
 "nbformat_minor": 0
}
